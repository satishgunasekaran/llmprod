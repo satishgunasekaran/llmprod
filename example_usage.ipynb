{
 "cells": [
  {
   "cell_type": "code",
   "execution_count": 1,
   "metadata": {},
   "outputs": [
    {
     "name": "stderr",
     "output_type": "stream",
     "text": [
      "d:\\Personal\\genprod\\Visualization\\.venv\\Lib\\site-packages\\langchain_core\\_api\\deprecation.py:117: LangChainDeprecationWarning: The function `run` was deprecated in LangChain 0.1.0 and will be removed in 0.2.0. Use invoke instead.\n",
      "  warn_deprecated(\n"
     ]
    },
    {
     "name": "stdout",
     "output_type": "stream",
     "text": [
      "\n",
      "\n",
      "\u001b[1m> Entering new AgentExecutor chain...\u001b[0m\n",
      "\u001b[32;1m\u001b[1;3mThought: We need to define what makes a car \"best\". Let's assume the best cars are the ones with the highest price.\n",
      "Action: python_repl_ast\n",
      "Action Input: df.nlargest(5, 'Price')\u001b[0m\u001b[36;1m\u001b[1;3m      Car_ID    Model Production_Date   Color      Price\n",
      "4992    4993  Model X      2022-07-25  SILVER  149962.15\n",
      "4723    4724  Model X      2022-03-01  SILVER  149958.47\n",
      "3967    3968  Model X      2023-05-16   WHITE  149891.53\n",
      "2039    2040  Model X      2022-01-23  SILVER  149872.87\n",
      "3539    3540  Model X      2021-09-30  SILVER  149789.79\u001b[0m\u001b[32;1m\u001b[1;3m\n",
      "I now know the final answer\n",
      "Final Answer: The best cars are the ones with the highest price. Based on the data provided, the top 5 best cars are:\n",
      "\n",
      "- Car_ID 4993, Model X, Production Date: 2022-07-25, Color: SILVER, Price: 149962.15\n",
      "- Car_ID 4724, Model X, Production Date: 2022-03-01, Color: SILVER, Price: 149958\u001b[0m\n",
      "\n",
      "\u001b[1m> Finished chain.\u001b[0m\n"
     ]
    },
    {
     "data": {
      "text/plain": [
       "'The best cars are the ones with the highest price. Based on the data provided, the top 5 best cars are:\\n\\n- Car_ID 4993, Model X, Production Date: 2022-07-25, Color: SILVER, Price: 149962.15\\n- Car_ID 4724, Model X, Production Date: 2022-03-01, Color: SILVER, Price: 149958'"
      ]
     },
     "execution_count": 1,
     "metadata": {},
     "output_type": "execute_result"
    }
   ],
   "source": [
    "from llmprod.pandas_df.pandas_df_analyzer import PandasDFAnalyzer\n",
    "import pandas as pd\n",
    "from dotenv import load_dotenv\n",
    "import os\n",
    "\n",
    "load_dotenv()\n",
    "df = pd.read_csv('cars_min.csv')\n",
    "\n",
    "TOGETHER_API_KEY =  os.getenv('TOGETHER_API_KEY')\n",
    "\n",
    "\n",
    "\n",
    "df_analyzer = PandasDFAnalyzer(df=df, together_api_key=TOGETHER_API_KEY)\n",
    "\n",
    "df_analyzer.analyze_df(query=\"What are the best cars\")\n"
   ]
  }
 ],
 "metadata": {
  "kernelspec": {
   "display_name": "venv",
   "language": "python",
   "name": "python3"
  },
  "language_info": {
   "codemirror_mode": {
    "name": "ipython",
    "version": 3
   },
   "file_extension": ".py",
   "mimetype": "text/x-python",
   "name": "python",
   "nbconvert_exporter": "python",
   "pygments_lexer": "ipython3",
   "version": "3.11.4"
  }
 },
 "nbformat": 4,
 "nbformat_minor": 2
}
