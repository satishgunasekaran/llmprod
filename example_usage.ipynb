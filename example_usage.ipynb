{
 "cells": [
  {
   "cell_type": "code",
   "execution_count": 1,
   "metadata": {},
   "outputs": [
    {
     "name": "stderr",
     "output_type": "stream",
     "text": [
      "d:\\Personal\\genprod\\Visualization\\.venv\\Lib\\site-packages\\langchain_core\\_api\\deprecation.py:117: LangChainDeprecationWarning: The function `run` was deprecated in LangChain 0.1.0 and will be removed in 0.2.0. Use invoke instead.\n",
      "  warn_deprecated(\n"
     ]
    },
    {
     "name": "stdout",
     "output_type": "stream",
     "text": [
      "\n",
      "\n",
      "\u001b[1m> Entering new AgentExecutor chain...\u001b[0m\n",
      "\u001b[32;1m\u001b[1;3mThought: I need to sort the dataframe by CGPA7 and then get the top 5 rows\n",
      "Action: python_repl_ast\n",
      "Action Input: df.sort_values(by='CGPA7', ascending=False).head(5)\u001b[0m\u001b[36;1m\u001b[1;3m    Roll_no          Name Initial  CGPA1  CGPA2  CGPA3  CGPA4  CGPA5  CGPA6  \\\n",
      "4   20AD005  ARJUN BALAJI     NaN   9.23   9.24   9.00   9.15   9.22   9.13   \n",
      "45  20AD046      SARMITHA       S   9.68   9.76   9.44   9.29   9.26   9.19   \n",
      "17  20AD018      JAISRI         V   8.91   9.00   9.11   9.08   9.10   9.05   \n",
      "31  20AD032  PRATHIKSHA       P N   9.41   9.27   9.11   9.13   9.08   9.05   \n",
      "47  20AD048       SATISH        G   8.95   9.15   9.15   9.15   9.10   9.03   \n",
      "\n",
      "    CGPA7  \n",
      "4    9.12  \n",
      "45   9.11  \n",
      "17   9.06  \n",
      "31   9.00  \n",
      "47   9.00  \u001b[0m\u001b[32;1m\u001b[1;3m\n",
      "I now know the final answer\n",
      "Final Answer: The top 5 students as per the cgpa7 are ARJUN BALAJI, SARMITHA, JAISRI, PRATHIKSHA, and SATISH.\u001b[0m\n",
      "\n",
      "\u001b[1m> Finished chain.\u001b[0m\n"
     ]
    },
    {
     "data": {
      "text/plain": [
       "'The top 5 students as per the cgpa7 are ARJUN BALAJI, SARMITHA, JAISRI, PRATHIKSHA, and SATISH.'"
      ]
     },
     "execution_count": 1,
     "metadata": {},
     "output_type": "execute_result"
    }
   ],
   "source": [
    "from llmprod.pandas_df.pandas_df_analyzer import PandasDFAnalyzer\n",
    "import pandas as pd\n",
    "from dotenv import load_dotenv\n",
    "import os\n",
    "\n",
    "load_dotenv()\n",
    "df = pd.read_csv('dataset_CGPA.csv')\n",
    "\n",
    "TOGETHER_API_KEY = \"05eefa6c9255b4b1e49415e00b0c5376812727eb68ee40a539c70ed7dccd2b0e\"\n",
    "\n",
    "\n",
    "df_analyzer = PandasDFAnalyzer(df=df, together_api_key=TOGETHER_API_KEY)\n",
    "\n",
    "df_analyzer.analyze_df(query=\"Give me the top 5 students as per the cgpa7\")"
   ]
  },
  {
   "cell_type": "code",
   "execution_count": 1,
   "metadata": {},
   "outputs": [
    {
     "name": "stderr",
     "output_type": "stream",
     "text": [
      "d:\\Personal\\genprod\\Visualization\\.venv\\Lib\\site-packages\\langchain_core\\_api\\deprecation.py:117: LangChainDeprecationWarning: The function `run` was deprecated in LangChain 0.1.0 and will be removed in 0.2.0. Use invoke instead.\n",
      "  warn_deprecated(\n"
     ]
    },
    {
     "name": "stdout",
     "output_type": "stream",
     "text": [
      "\n",
      "\n",
      "\u001b[1m> Entering new AgentExecutor chain...\u001b[0m\n",
      "\u001b[32;1m\u001b[1;3mThought: \n",
      "            I need to sort the dataframe by CGPA7 in descending order and then select the top 5 rows.\n",
      "Action: python_repl_ast\n",
      "Action Input: df_sorted = df.sort_values(by='CGPA7', ascending=False)\u001b[0m\u001b[36;1m\u001b[1;3m\u001b[0m\u001b[32;1m\u001b[1;3m\n",
      "            Now, I need to select the top 5 rows from the sorted dataframe.\n",
      "Action: python_repl_ast\n",
      "Action Input: top_5_students = df_sorted.head(5)\u001b[0m\u001b[36;1m\u001b[1;3m\u001b[0m\u001b[32;1m\u001b[1;3m\n",
      "            Now, I need to create a plotly bar chart for the top 5 students.\n",
      "Action: python_repl_ast\n",
      "Action Input: import plotly.express as px\u001b[0m\u001b[36;1m\u001b[1;3m\u001b[0m\u001b[32;1m\u001b[1;3m\n",
      "            I need to create the plotly bar chart using the top_5_students dataframe.\n",
      "Action: python_repl_ast\n",
      "Action Input: fig = px.bar(top_5_students, x='Name', y='CGPA7', title='Top 5 students as per CGPA7')\u001b[0m\u001b[36;1m\u001b[1;3m\u001b[0m\u001b[32;1m\u001b[1;3m\n",
      "            I now know the final answer.\n",
      "Final Answer:\n",
      "\n",
      "```python\n",
      "import plotly.express as px\n",
      "\n",
      "df_sorted = df.sort_values(by='CGPA7', ascending=False)\n",
      "top_5_students = df_sorted.head(5)\n",
      "\n",
      "fig = px.bar(top_5_students, x='Name', y='CGPA7', title='Top 5 students as per CGPA7')\n",
      "fig.show()\n",
      "```\u001b[0m\n",
      "\n",
      "\u001b[1m> Finished chain.\u001b[0m\n"
     ]
    }
   ],
   "source": [
    "from llmprod.visualization.visualizer import Visualizer\n",
    "import pandas as pd\n",
    "from dotenv import load_dotenv\n",
    "import os\n",
    "\n",
    "load_dotenv()\n",
    "df = pd.read_csv('dataset_CGPA.csv')\n",
    "\n",
    "TOGETHER_API_KEY = os.getenv('TOGETHER_API_KEY')\n",
    "\n",
    "\n",
    "df_analyzer = Visualizer(df=df, together_api_key=TOGETHER_API_KEY)\n",
    "\n",
    "vis_res = df_analyzer.analyze_df(query=\"Give me the top 5 students as per the cgpa7\")"
   ]
  },
  {
   "cell_type": "code",
   "execution_count": 2,
   "metadata": {},
   "outputs": [
    {
     "name": "stdout",
     "output_type": "stream",
     "text": [
      "```python\n",
      "import plotly.express as px\n",
      "\n",
      "df_sorted = df.sort_values(by='CGPA7', ascending=False)\n",
      "top_5_students = df_sorted.head(5)\n",
      "\n",
      "fig = px.bar(top_5_students, x='Name', y='CGPA7', title='Top 5 students as per CGPA7')\n",
      "fig.show()\n",
      "```\n"
     ]
    }
   ],
   "source": [
    "print(vis_res)"
   ]
  },
  {
   "cell_type": "code",
   "execution_count": 3,
   "metadata": {},
   "outputs": [],
   "source": [
    "# now from ```python ``` extract stuff\n",
    "\n",
    "formatted_code = vis_res.replace(\"```python\", \"\").replace(\"```\",\"\")"
   ]
  },
  {
   "cell_type": "code",
   "execution_count": 4,
   "metadata": {},
   "outputs": [
    {
     "data": {
      "text/plain": [
       "\"\\nimport plotly.express as px\\n\\ndf_sorted = df.sort_values(by='CGPA7', ascending=False)\\ntop_5_students = df_sorted.head(5)\\n\\nfig = px.bar(top_5_students, x='Name', y='CGPA7', title='Top 5 students as per CGPA7')\\nfig.show()\\n\""
      ]
     },
     "execution_count": 4,
     "metadata": {},
     "output_type": "execute_result"
    }
   ],
   "source": [
    "formatted_code"
   ]
  },
  {
   "cell_type": "code",
   "execution_count": 5,
   "metadata": {},
   "outputs": [
    {
     "name": "stdout",
     "output_type": "stream",
     "text": [
      "\n",
      "import plotly.express as px\n",
      "\n",
      "df_sorted = df.sort_values(by='CGPA7', ascending=False)\n",
      "top_5_students = df_sorted.head(5)\n",
      "\n",
      "fig = px.bar(top_5_students, x='Name', y='CGPA7', title='Top 5 students as per CGPA7')\n",
      "fig.show()\n",
      "\n"
     ]
    }
   ],
   "source": [
    "print(formatted_code)"
   ]
  },
  {
   "cell_type": "code",
   "execution_count": null,
   "metadata": {},
   "outputs": [],
   "source": []
  }
 ],
 "metadata": {
  "kernelspec": {
   "display_name": "venv",
   "language": "python",
   "name": "python3"
  },
  "language_info": {
   "codemirror_mode": {
    "name": "ipython",
    "version": 3
   },
   "file_extension": ".py",
   "mimetype": "text/x-python",
   "name": "python",
   "nbconvert_exporter": "python",
   "pygments_lexer": "ipython3",
   "version": "3.12.1"
  }
 },
 "nbformat": 4,
 "nbformat_minor": 2
}
